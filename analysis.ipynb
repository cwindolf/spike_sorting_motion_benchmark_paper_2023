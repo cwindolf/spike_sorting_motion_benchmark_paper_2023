{
 "cells": [
  {
   "cell_type": "code",
   "execution_count": null,
   "id": "5e15745d-9cfe-49b4-9cb0-974718f6c67b",
   "metadata": {},
   "outputs": [],
   "source": [
    "%load_ext autoreload\n",
    "%autoreload 2"
   ]
  },
  {
   "cell_type": "code",
   "execution_count": null,
   "id": "91541710-08f6-4249-8db6-37d858551cf1",
   "metadata": {},
   "outputs": [],
   "source": [
    "import numpy as np\n",
    "import h5py\n",
    "import pandas as pd\n",
    "from pathlib import Path\n",
    "import matplotlib.pyplot as plt\n",
    "import analysis_tools\n",
    "from dredge import motion_util\n",
    "import seaborn as sns\n",
    "import dartsort\n",
    "import spikeinterface.full as si"
   ]
  },
  {
   "cell_type": "code",
   "execution_count": null,
   "id": "93439e20-8ce5-4087-8ea3-c65744cbda13",
   "metadata": {},
   "outputs": [],
   "source": [
    "%config InlineBackend.figure_format = 'retina'\n",
    "import matplotlib.pyplot as plt\n",
    "from matplotlib.markers import MarkerStyle\n",
    "from matplotlib.transforms import offset_copy\n",
    "from matplotlib.patches import Ellipse, Rectangle, ConnectionPatch\n",
    "from matplotlib.lines import Line2D\n",
    "from matplotlib.legend_handler import HandlerTuple\n",
    "import contextlib\n",
    "import colorcet as cc\n",
    "\n",
    "plt.rc(\"figure\", dpi=300)\n",
    "plt.rc(\"figure\", figsize=(4, 4))\n",
    "SMALL_SIZE = 5\n",
    "MEDIUM_SIZE = 7\n",
    "BIGGER_SIZE =  8\n",
    "plt.rc('font', size=SMALL_SIZE)\n",
    "plt.rc('axes', titlesize=MEDIUM_SIZE)\n",
    "plt.rc('axes', labelsize=SMALL_SIZE)\n",
    "plt.rc('xtick', labelsize=SMALL_SIZE)\n",
    "plt.rc('ytick', labelsize=SMALL_SIZE)\n",
    "plt.rc('legend', fontsize=SMALL_SIZE)\n",
    "plt.rc('figure', titlesize=BIGGER_SIZE)\n",
    "# plt.rc('text.latex', preamble=preamble)\n",
    "plt.rc('svg', fonttype='none')\n",
    "plt.rc('ps', usedistiller='xpdf')\n",
    "plt.rc('pdf', fonttype=42)\n",
    "\n",
    "\n",
    "# plt.rcParams.update({\n",
    "#     \"text.usetex\": True,\n",
    "#     # \"font.family\": \"serif\",\n",
    "# })\n",
    "# preamble = r\"\"\"\n",
    "# \\renewcommand{\\familydefault}{\\sfdefault}\n",
    "# \\usepackage[scaled=1]{helvet}\n",
    "# \\usepackage[helvet]{sfmath}\n",
    "# \\usepackage{textgreek}\n",
    "# \"\"\"\n",
    "# plt.rc('text.latex', preamble=preamble)"
   ]
  },
  {
   "cell_type": "code",
   "execution_count": null,
   "id": "53bff7d1-7bfd-4b73-bcb1-045bbfa092cb",
   "metadata": {},
   "outputs": [],
   "source": [
    "measims_dir = Path(\"~/proj/measims/recordings\").expanduser()\n",
    "measims = list(measims_dir.glob(\"*.h5\"))\n",
    "scaleprocs_dir = Path(\"~/proj/measims/scaleproc_recordings\").expanduser()\n",
    "darts_dir = Path(\"~/proj/measims/dart_recordings\").expanduser()\n",
    "rez_dir = Path(\"~/proj/measims/ksrez\").expanduser()\n",
    "# dart_out_dir = Path(\"~/proj/measims/dart_out\").expanduser()\n",
    "# dart_out_dir = Path(\"~/proj/measims/dartnonn_out\").expanduser()\n",
    "dart_out_dir = Path(\"~/proj/measims/dartnonn4_out\").expanduser()"
   ]
  },
  {
   "cell_type": "code",
   "execution_count": null,
   "id": "58ab833d-63ca-4825-8e0a-d0ac77a15bf1",
   "metadata": {},
   "outputs": [],
   "source": [
    "vis_dir = measims_dir.parent / \"vis\"\n",
    "vis_dir.mkdir(exist_ok=True)"
   ]
  },
  {
   "cell_type": "code",
   "execution_count": null,
   "id": "d491b113-3bff-423d-ae6c-c097a81a3685",
   "metadata": {},
   "outputs": [],
   "source": [
    "heatmaps_dir = vis_dir / \"heatmaps\"\n",
    "heatmaps_dir.mkdir(exist_ok=True)"
   ]
  },
  {
   "cell_type": "code",
   "execution_count": null,
   "id": "af9b5117-df4c-4fd3-940c-a9fbb41bbc2f",
   "metadata": {},
   "outputs": [],
   "source": [
    "for p in measims:\n",
    "    print(p)\n",
    "    dart_dir = dart_out_dir / p.stem\n",
    "    subtraction_h5 = dart_dir / \"subtraction.h5\"\n",
    "    rec = si.read_binary_folder(darts_dir / p.stem)\n",
    "    dartsort.estimate_motion(\n",
    "        rec,\n",
    "        dartsort.DARTsortSorting.from_peeling_hdf5(subtraction_h5),\n",
    "        # output_directory=None,\n",
    "        output_directory=dart_dir,\n",
    "        overwrite=True,\n",
    "        temporal_bin_length_s=2.05,\n",
    "    )"
   ]
  },
  {
   "cell_type": "code",
   "execution_count": null,
   "id": "3bb46e9f-fe95-4445-b291-5c87ae990f49",
   "metadata": {
    "scrolled": true
   },
   "outputs": [],
   "source": [
    "gt_dispmaps = {}\n",
    "ks_dispmaps = {}\n",
    "dart_dispmaps = {}\n",
    "ks_errs = {}\n",
    "dart_errs = {}\n",
    "\n",
    "for p in measims:\n",
    "    print(p)\n",
    "    # if (\"modulated\" not in p.stem) or (\"bumps\" not in p.stem):\n",
    "    #     continue\n",
    "    dart_dir = dart_out_dir / p.stem\n",
    "    subtraction_h5 = dart_dir / \"thresholding.h5\"\n",
    "    rec = si.read_binary_folder(darts_dir / p.stem)\n",
    "    dredgeme2 = dartsort.estimate_motion(\n",
    "        rec,\n",
    "        dartsort.DARTsortSorting.from_peeling_hdf5(subtraction_h5),\n",
    "        output_directory=dart_dir,\n",
    "        temporal_bin_length_s=2.05,\n",
    "        # spatial_bin_length_um=5.0,\n",
    "        amplitudes_dataset_name='ptp_amplitudes',\n",
    "        # correlation_threshold=0.4,\n",
    "        # max_disp_um=75.0,\n",
    "        overwrite=True,\n",
    "    )\n",
    "\n",
    "    dart_dir = dart_out_dir / p.stem\n",
    "    ks_dir = rez_dir / p.stem\n",
    "\n",
    "    rez2_mat = ks_dir / \"rez2.mat\"\n",
    "    # subtraction_h5 = dart_dir / \"subtraction.h5\"\n",
    "    subtraction_h5 = dart_dir / \"thresholding.h5\"\n",
    "    motion_est_pkl = dart_dir / \"motion_est.pkl\"\n",
    "    if not motion_est_pkl.exists():\n",
    "        print(\"Not done\")\n",
    "        continue\n",
    "\n",
    "    gtme, gt_dispmaps[p.stem] = analysis_tools.dispmap_from_mearec(p)\n",
    "    ksme, ks_dispmaps[p.stem] = analysis_tools.dispmap_from_ks(gt_dispmaps[p.stem], rez2_mat, fs=32000)\n",
    "    dredgeme, dart_dispmaps[p.stem] = analysis_tools.dispmap_from_dredge(gt_dispmaps[p.stem], motion_est_pkl)\n",
    "\n",
    "    gtsp = analysis_tools.spikes_from_mearec(p, gtme)\n",
    "    kssp = analysis_tools.spikes_from_ks(rez2_mat, fs=32000)\n",
    "    dredgesp = analysis_tools.spikes_from_dredge(subtraction_h5)\n",
    "\n",
    "    fig, axes = plt.subplots(ncols=3, nrows=3, figsize=(10, 10), layout=\"constrained\", sharex=True, sharey=True)\n",
    "\n",
    "    motion_util.show_spike_raster(*gtsp, ax=axes[0, 0], aspect=\"auto\", vmax=15)\n",
    "    motion_util.show_spike_raster(*kssp, ax=axes[0, 1], aspect=\"auto\", vmax=15)\n",
    "    motion_util.plot_me_traces(ksme, ax=axes[0, 1], color=\"r\", lw=1)\n",
    "    motion_util.show_spike_raster(*dredgesp, ax=axes[0, 2], aspect=\"auto\", vmax=15)\n",
    "    motion_util.plot_me_traces(dredgeme, ax=axes[0, 2], color=\"r\", lw=1)\n",
    "    # motion_util.plot_me_traces(dredgeme2, ax=axes[0, 2], color=\"w\", lw=1)\n",
    "    # motion_util.plot_me_traces(dredgeme2s[p.stem], ax=axes[0, 2], color=\"orange\", lw=1)\n",
    "\n",
    "    vm = max(\n",
    "        np.abs(gt_dispmaps[p.stem].displacement).max(),\n",
    "        np.abs(ks_dispmaps[p.stem].displacement).max(),\n",
    "        np.abs(dart_dispmaps[p.stem].displacement).max(),\n",
    "    )\n",
    "    ks_offset = np.mean(gt_dispmaps[p.stem].displacement - ks_dispmaps[p.stem].displacement)\n",
    "    dart_offset = np.mean(gt_dispmaps[p.stem].displacement - dart_dispmaps[p.stem].displacement)\n",
    "    ksd = motion_util.get_motion_estimate(\n",
    "        ks_dispmaps[p.stem].displacement + ks_offset,\n",
    "        time_bin_centers_s=gt_dispmaps[p.stem].time_bin_centers_s,\n",
    "        spatial_bin_centers_um=gt_dispmaps[p.stem].spatial_bin_centers_um,\n",
    "    )\n",
    "    dartd = motion_util.get_motion_estimate(\n",
    "        dart_dispmaps[p.stem].displacement + dart_offset,\n",
    "        time_bin_centers_s=gt_dispmaps[p.stem].time_bin_centers_s,\n",
    "        spatial_bin_centers_um=gt_dispmaps[p.stem].spatial_bin_centers_um,\n",
    "    )\n",
    "    kw = dict(aspect=\"auto\", cmap=plt.cm.seismic, vmin=-vm, vmax=vm)\n",
    "    motion_util.show_displacement_heatmap(gt_dispmaps[p.stem], ax=axes[1, 0], **kw)\n",
    "    motion_util.show_displacement_heatmap(ksd, ax=axes[1, 1], **kw)\n",
    "    motion_util.show_displacement_heatmap(dartd, ax=axes[1, 2], **kw)\n",
    "\n",
    "    axes[2, 0].axis(\"off\")\n",
    "    ks_err = motion_util.get_motion_estimate(\n",
    "        gt_dispmaps[p.stem].displacement - ks_dispmaps[p.stem].displacement - ks_offset,\n",
    "        time_bin_centers_s=gt_dispmaps[p.stem].time_bin_centers_s,\n",
    "        spatial_bin_centers_um=gt_dispmaps[p.stem].spatial_bin_centers_um,\n",
    "    )\n",
    "    ks_errs[p.stem] = ks_err\n",
    "    dart_err = motion_util.get_motion_estimate(\n",
    "        gt_dispmaps[p.stem].displacement - dart_dispmaps[p.stem].displacement - dart_offset,\n",
    "        time_bin_centers_s=gt_dispmaps[p.stem].time_bin_centers_s,\n",
    "        spatial_bin_centers_um=gt_dispmaps[p.stem].spatial_bin_centers_um,\n",
    "    )\n",
    "    dart_errs[p.stem] = dart_err\n",
    "    motion_util.show_displacement_heatmap(ks_err, ax=axes[2, 1], **kw)\n",
    "    motion_util.show_displacement_heatmap(dart_err, ax=axes[2, 2], **kw)\n",
    "\n",
    "    axes[0, 0].set_title(\"GT localizations\")\n",
    "    axes[0, 1].set_title(\"KS localizations\")\n",
    "    axes[0, 2].set_title(\"DREDge localizations\")\n",
    "    axes[1, 0].set_title(\"GT dispmap\")\n",
    "    axes[1, 1].set_title(\"KS dispmap\")\n",
    "    axes[1, 2].set_title(\"DREDge dispmap\")\n",
    "    axes[2, 1].set_title(f\"KS MSE={np.square(ks_err.displacement).mean():0.3f}\")\n",
    "    axes[2, 2].set_title(f\"DREDge MSE={np.square(dart_err.displacement).mean():0.3f}\")\n",
    "    print(f\"{dart_offset=} {ks_offset=}\")\n",
    "\n",
    "    fig.suptitle(p.stem)\n",
    "    fig.savefig(heatmaps_dir / f\"{p.stem}.png\", dpi=200)\n",
    "    plt.show()\n",
    "    plt.close(fig)"
   ]
  },
  {
   "cell_type": "code",
   "execution_count": null,
   "id": "2968c1c1-9d0e-4b3d-96a2-eae3a459ca71",
   "metadata": {},
   "outputs": [],
   "source": []
  },
  {
   "cell_type": "code",
   "execution_count": null,
   "id": "ab101852-34dd-4b59-bea6-8fc6f1a2e27c",
   "metadata": {},
   "outputs": [],
   "source": []
  },
  {
   "cell_type": "code",
   "execution_count": null,
   "id": "fdf4b057-d891-45ee-a2be-c59ad3ad44c3",
   "metadata": {},
   "outputs": [],
   "source": [
    "depths = []\n",
    "times = []\n",
    "probes = []\n",
    "drift_types = []\n",
    "cell_position_dists = []\n",
    "firing_types = []\n",
    "dart_sqerrs = []\n",
    "ks_sqerrs = []\n",
    "\n",
    "for p in ks_errs:\n",
    "    print(p)\n",
    "    probe, drift_type, cell_position_dist, firing_type = p.split(\"_\")\n",
    "\n",
    "    ks_err = ks_errs[p]\n",
    "    dart_err = dart_errs[p]\n",
    "\n",
    "    depth, time = np.meshgrid(ks_err.spatial_bin_centers_um, ks_err.time_bin_centers_s, indexing=\"ij\")\n",
    "    nij = depth.size\n",
    "\n",
    "    depths.append(depth.ravel())\n",
    "    times.append(time.ravel())\n",
    "    probes.append(np.full(nij, probe))\n",
    "    drift_types.append(np.full(nij, drift_type))\n",
    "    cell_position_dists.append(np.full(nij, cell_position_dist))\n",
    "    firing_types.append(np.full(nij, firing_type))\n",
    "    dart_sqerrs.append(np.square(dart_err.displacement).ravel())\n",
    "    ks_sqerrs.append(np.square(ks_err.displacement).ravel())\n",
    "\n",
    "dartdf = dict(\n",
    "    depth=np.concatenate(depths),\n",
    "    time=np.concatenate(times),\n",
    "    probe=np.concatenate(probes),\n",
    "    drift_type=np.concatenate(drift_types),\n",
    "    cell_position_dist=np.concatenate(cell_position_dists),\n",
    "    firing_type=np.concatenate(firing_types),\n",
    "    rmse=np.sqrt(np.concatenate(dart_sqerrs)),\n",
    "    algorithm=\"DREDge\",\n",
    ")\n",
    "dartdf = pd.DataFrame(dartdf)\n",
    "ksdf = dict(\n",
    "    depth=np.concatenate(depths),\n",
    "    time=np.concatenate(times),\n",
    "    probe=np.concatenate(probes),\n",
    "    drift_type=np.concatenate(drift_types),\n",
    "    cell_position_dist=np.concatenate(cell_position_dists),\n",
    "    firing_type=np.concatenate(firing_types),\n",
    "    sqerr=np.concatenate(ks_sqerrs),\n",
    "    rmse=np.sqrt(np.concatenate(ks_sqerrs)),\n",
    "    algorithm=\"KS\"\n",
    ")\n",
    "ksdf = pd.DataFrame(ksdf)\n",
    "df = pd.concat([dartdf, ksdf])"
   ]
  },
  {
   "cell_type": "code",
   "execution_count": null,
   "id": "43637d8c-21bf-4faf-a638-e86e0367711c",
   "metadata": {},
   "outputs": [],
   "source": [
    "df.query(\"cell_position_dist=='uniform'\")"
   ]
  },
  {
   "cell_type": "code",
   "execution_count": null,
   "id": "ed139a12-d642-4f2b-8ac2-efefffd014ac",
   "metadata": {},
   "outputs": [],
   "source": [
    "sns.relplot(\n",
    "    df.query(\"cell_position_dist=='uniform'\"),\n",
    "    hue=\"algorithm\",\n",
    "    x=\"depth\",\n",
    "    y=\"rmse\",\n",
    "    col=\"drift_type\",\n",
    "    row=\"firing_type\",\n",
    "    kind=\"line\",\n",
    "    errorbar=(\"pi\", 80),\n",
    "    height=2,\n",
    ")\n",
    "plt.gcf().suptitle(\"Uniform cell layout\", y=1.03)"
   ]
  },
  {
   "cell_type": "code",
   "execution_count": null,
   "id": "b9e8776c-3ad9-474d-be37-ea1a2184aa46",
   "metadata": {},
   "outputs": [],
   "source": [
    "sns.relplot(\n",
    "    df.query(\"cell_position_dist=='bimodal'\"),\n",
    "    hue=\"algorithm\",\n",
    "    x=\"depth\",\n",
    "    y=\"rmse\",\n",
    "    col=\"drift_type\",\n",
    "    row=\"firing_type\",\n",
    "    kind=\"line\",\n",
    "    errorbar=(\"pi\", 90),\n",
    "    height=2,\n",
    ")\n",
    "plt.gcf().suptitle(\"Bimodal cell layout\", y=1.03)"
   ]
  },
  {
   "cell_type": "code",
   "execution_count": null,
   "id": "977841e3-5e0a-4db8-bd64-22aed310cbf4",
   "metadata": {},
   "outputs": [],
   "source": [
    "sns.relplot(\n",
    "    df,\n",
    "    hue=\"algorithm\",\n",
    "    x=\"depth\",\n",
    "    y=\"rmse\",\n",
    "    # col=\"drift_type\",\n",
    "    # row=\"firing_type\",\n",
    "    kind=\"line\",\n",
    "    errorbar=(\"pi\", 90),\n",
    "    height=2,\n",
    ")\n",
    "plt.gcf().suptitle(\"Global\", y=1.03)"
   ]
  },
  {
   "cell_type": "code",
   "execution_count": null,
   "id": "2f33d529-5ed6-4d20-8ed8-e4442cf027ba",
   "metadata": {},
   "outputs": [],
   "source": []
  },
  {
   "cell_type": "code",
   "execution_count": null,
   "id": "11518ab1-56d8-452b-8c8b-0a20af615540",
   "metadata": {},
   "outputs": [],
   "source": []
  },
  {
   "cell_type": "code",
   "execution_count": null,
   "id": "5b748bd1-eda4-4f42-8afa-5c7dca273f17",
   "metadata": {},
   "outputs": [],
   "source": [
    "ks_err.displacement.shape"
   ]
  },
  {
   "cell_type": "code",
   "execution_count": null,
   "id": "6f8ac156-5be6-4b58-8b7a-3d5b1cc82665",
   "metadata": {},
   "outputs": [],
   "source": [
    "uu, vv = np.meshgrid(ks_err.spatial_bin_centers_um, ks_err.time_bin_centers_s, indexing=\"ij\")"
   ]
  },
  {
   "cell_type": "code",
   "execution_count": null,
   "id": "6ac7d962-a418-46ed-93f5-bd43867ff17f",
   "metadata": {},
   "outputs": [],
   "source": [
    "uu.shape"
   ]
  },
  {
   "cell_type": "code",
   "execution_count": null,
   "id": "d63d7408-3a91-48ec-b52d-28d5908c38c1",
   "metadata": {},
   "outputs": [],
   "source": []
  },
  {
   "cell_type": "code",
   "execution_count": null,
   "id": "91d3e631-6f2a-4535-93f9-2c176f18ff9c",
   "metadata": {},
   "outputs": [],
   "source": []
  },
  {
   "cell_type": "code",
   "execution_count": null,
   "id": "fc9b949f-b4b5-461b-9a69-4ec8a4df52cc",
   "metadata": {},
   "outputs": [],
   "source": []
  },
  {
   "cell_type": "code",
   "execution_count": null,
   "id": "18960708-741b-4ddb-89da-6e3ae2cb182e",
   "metadata": {},
   "outputs": [],
   "source": []
  },
  {
   "cell_type": "code",
   "execution_count": null,
   "id": "c65aaccd-1dd1-4fa6-a493-2ca5ff2af8ca",
   "metadata": {},
   "outputs": [],
   "source": [
    "p = [p for p in measims if \"bumps\" in p.stem][0]"
   ]
  },
  {
   "cell_type": "code",
   "execution_count": null,
   "id": "31507a1e-8545-4b9b-b01f-d2f829d0e73f",
   "metadata": {},
   "outputs": [],
   "source": [
    "# determine shapes\n",
    "n_disps = gt_dispmaps[p.stem].displacement.size\n",
    "n_recs = len(gt_dispmaps)"
   ]
  },
  {
   "cell_type": "code",
   "execution_count": null,
   "id": "b08f894b-138e-4860-8177-30a9559d3bc5",
   "metadata": {},
   "outputs": [],
   "source": []
  },
  {
   "cell_type": "code",
   "execution_count": null,
   "id": "cf873fb7-3100-4913-96c8-9530d01ae8ea",
   "metadata": {},
   "outputs": [],
   "source": []
  },
  {
   "cell_type": "code",
   "execution_count": null,
   "id": "eed11c6a-fbda-42fe-ae5c-6fe1a7740d40",
   "metadata": {},
   "outputs": [],
   "source": [
    "for p in measims:\n",
    "    gt_disp = gt_d"
   ]
  },
  {
   "cell_type": "code",
   "execution_count": null,
   "id": "9106bba7-f564-4380-af83-b87a4c14eefa",
   "metadata": {},
   "outputs": [],
   "source": []
  },
  {
   "cell_type": "code",
   "execution_count": null,
   "id": "08c74d5d-dbb3-47c7-b097-98a444b1b821",
   "metadata": {},
   "outputs": [],
   "source": [
    "with h5py.File(ks_dir / \"rez2.mat\") as h5:\n",
    "    rez = h5[\"rez\"]\n",
    "    for k, v in rez.items():\n",
    "        print(k, v)\n",
    "    dshift = rez[\"dshift\"][:]\n",
    "    yc = rez[\"ycoords\"][:]\n",
    "    st0 = rez[\"st0\"][:]"
   ]
  },
  {
   "cell_type": "code",
   "execution_count": null,
   "id": "cc24b57a-72e5-46cd-9ba0-65973357d94a",
   "metadata": {},
   "outputs": [],
   "source": [
    "with h5py.File(p) as h5:\n",
    "\n",
    "    for k, v in h5[\"drift_list\"].items():\n",
    "        print(k, v)\n",
    "    \n",
    "    for k, v in h5.items():\n",
    "        print(k, v)\n",
    "    g = h5[\"drift_list/1\"]\n",
    "    print(\"drift--------------\")\n",
    "    for k, v in g.items():\n",
    "        print(k, v)\n",
    "    drift_fs = g[\"drift_fs\"][()]\n",
    "    drift_factors = g[\"drift_factors\"][()]\n",
    "    drift_times = g[\"drift_times\"][()]\n",
    "    drift_vector_idxs = g[\"drift_vector_idxs\"][()]\n",
    "    drift_vector_um = g[\"drift_vector_um\"][()]\n",
    "\n",
    "    gg = h5[\"spiketrains\"]\n",
    "    st = h5[\"spiketrains/0\"]\n",
    "    for k, v in st.items():\n",
    "        print(k, v)\n",
    "    st = h5[\"spiketrains/0/times\"][:]\n",
    "    vp = h5[\"voltage_peaks\"][:]\n",
    "\n",
    "    temp_locs = h5[\"template_locations\"][:]\n",
    "    geom = h5[\"channel_positions\"][:]\n",
    "    ttt = h5[\"timestamps\"][:]"
   ]
  },
  {
   "cell_type": "code",
   "execution_count": null,
   "id": "6d9ed815-148d-4471-9128-534f9cd9663c",
   "metadata": {},
   "outputs": [],
   "source": [
    "plt.imshow(vp)"
   ]
  },
  {
   "cell_type": "code",
   "execution_count": null,
   "id": "2213dbdc-1f7c-4f62-b0c1-b43c594afba9",
   "metadata": {},
   "outputs": [],
   "source": [
    "st"
   ]
  },
  {
   "cell_type": "code",
   "execution_count": null,
   "id": "e7b4584d-8f19-4a19-a7ca-f4f8f75a4da9",
   "metadata": {},
   "outputs": [],
   "source": [
    "st"
   ]
  },
  {
   "cell_type": "code",
   "execution_count": null,
   "id": "f85320b5-201d-40f2-90d5-e2bb3b764e44",
   "metadata": {},
   "outputs": [],
   "source": [
    "drift_factors.shape"
   ]
  },
  {
   "cell_type": "code",
   "execution_count": null,
   "id": "8c8b9fc4-2e2a-4418-aae9-4798fd35ffd8",
   "metadata": {},
   "outputs": [],
   "source": [
    "drift_vector_idxs.shape"
   ]
  },
  {
   "cell_type": "code",
   "execution_count": null,
   "id": "8b7a59a2-7ba3-4d02-b0c7-9df6c44560b8",
   "metadata": {},
   "outputs": [],
   "source": [
    "drift_vector_um.shape"
   ]
  },
  {
   "cell_type": "code",
   "execution_count": null,
   "id": "327b634b-11f0-4120-a091-55a79b41b145",
   "metadata": {},
   "outputs": [],
   "source": []
  },
  {
   "cell_type": "code",
   "execution_count": null,
   "id": "6bee3acc-4691-497f-9d22-9927cd0e1c0e",
   "metadata": {
    "scrolled": true
   },
   "outputs": [],
   "source": [
    "ttt.min(), ttt.max()"
   ]
  },
  {
   "cell_type": "code",
   "execution_count": null,
   "id": "625734e3-2c0d-4e77-87e6-cb94117bb3c3",
   "metadata": {},
   "outputs": [],
   "source": [
    "np.arange(0, ttt.max(), 1 / drift_fs).shape"
   ]
  },
  {
   "cell_type": "code",
   "execution_count": null,
   "id": "5d6d7271-b6e0-4e66-9826-1297034f1538",
   "metadata": {},
   "outputs": [],
   "source": [
    "temp_locs.shape"
   ]
  },
  {
   "cell_type": "code",
   "execution_count": null,
   "id": "8674c457-2c40-4dcf-af88-fe171269cb08",
   "metadata": {},
   "outputs": [],
   "source": [
    "temp_locs[:, 50, 2].min()\n",
    "temp_locs[:, 50, 2].max()"
   ]
  },
  {
   "cell_type": "code",
   "execution_count": null,
   "id": "aef25fd1-a7f6-4837-9121-f98b15c35eef",
   "metadata": {},
   "outputs": [],
   "source": [
    "geom[:, 2]"
   ]
  },
  {
   "cell_type": "code",
   "execution_count": null,
   "id": "4f299f39-ae75-4219-938e-ad8c306368be",
   "metadata": {},
   "outputs": [],
   "source": [
    "p"
   ]
  },
  {
   "cell_type": "code",
   "execution_count": null,
   "id": "8364c42c-bebb-45b9-8611-e744a895f53c",
   "metadata": {},
   "outputs": [],
   "source": [
    "drift_times"
   ]
  },
  {
   "cell_type": "code",
   "execution_count": null,
   "id": "ad611d0a-d1d7-4344-9ed3-11594642309a",
   "metadata": {},
   "outputs": [],
   "source": [
    "drift_fs"
   ]
  },
  {
   "cell_type": "code",
   "execution_count": null,
   "id": "f64e646b-5bc8-4e6a-a255-dd851035a2e9",
   "metadata": {},
   "outputs": [],
   "source": [
    "drift_vector_idxs.shape"
   ]
  },
  {
   "cell_type": "code",
   "execution_count": null,
   "id": "b67bbb4f-ce0a-419b-aca8-a76a623fcbdd",
   "metadata": {},
   "outputs": [],
   "source": [
    "drift_factors"
   ]
  },
  {
   "cell_type": "code",
   "execution_count": null,
   "id": "4d2eb685-75c7-4c8a-ba59-f804a3c13dc5",
   "metadata": {},
   "outputs": [],
   "source": [
    "plt.plot(drift_factors);"
   ]
  },
  {
   "cell_type": "code",
   "execution_count": null,
   "id": "995f52fe-47ee-4032-bd52-fa14b2e412be",
   "metadata": {},
   "outputs": [],
   "source": [
    "np.unique(drift_vector_idxs)"
   ]
  },
  {
   "cell_type": "code",
   "execution_count": null,
   "id": "4ea0b409-a1bd-4059-8fdf-65d3bfe8f866",
   "metadata": {},
   "outputs": [],
   "source": [
    "drift_vector_um"
   ]
  },
  {
   "cell_type": "code",
   "execution_count": null,
   "id": "9ef039d6-51dd-42b1-8a15-f158e86d81df",
   "metadata": {},
   "outputs": [],
   "source": [
    "plt.plot(drift_vector_um);"
   ]
  },
  {
   "cell_type": "code",
   "execution_count": null,
   "id": "98b63485-4520-4016-af8c-616191e82660",
   "metadata": {},
   "outputs": [],
   "source": [
    "np.unique(drift_vector_um)"
   ]
  },
  {
   "cell_type": "code",
   "execution_count": null,
   "id": "bafa10e3-ba40-4a1c-b73a-3d32f85211f4",
   "metadata": {},
   "outputs": [],
   "source": []
  }
 ],
 "metadata": {
  "kernelspec": {
   "display_name": "Python [conda env:dartsort]",
   "language": "python",
   "name": "conda-env-dartsort-py"
  },
  "language_info": {
   "codemirror_mode": {
    "name": "ipython",
    "version": 3
   },
   "file_extension": ".py",
   "mimetype": "text/x-python",
   "name": "python",
   "nbconvert_exporter": "python",
   "pygments_lexer": "ipython3",
   "version": "3.11.8"
  }
 },
 "nbformat": 4,
 "nbformat_minor": 5
}
